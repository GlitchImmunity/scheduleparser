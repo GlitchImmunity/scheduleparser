{
  "cells": [
    {
      "cell_type": "code",
      "execution_count": null,
      "metadata": {
        "cellView": "form",
        "id": "wwE-KQneuFUP",
        "pycharm": {
          "name": "#%%\n"
        }
      },
      "outputs": [],
      "source": [
        "#@title Spreadsheet Tab Names\n",
        "E_form = \"Fall Week 9 (11.20.22 - 11.26.22)\" #@param {type:\"string\"}\n",
        "D_form = \"Fall 22 Week 9\" #@param {type:\"string\"}"
      ]
    },
    {
      "cell_type": "markdown",
      "metadata": {
        "id": "4HgxWnwCmN3R",
        "pycharm": {
          "name": "#%% md\n"
        }
      },
      "source": [
        "# Imports and Hidden Stuff"
      ]
    },
    {
      "cell_type": "code",
      "execution_count": null,
      "metadata": {
        "id": "yVjlP6dPQUp9",
        "pycharm": {
          "name": "#%%\n"
        }
      },
      "outputs": [],
      "source": [
        "import pickle\n",
        "from apiclient.discovery import build\n",
        "from google_auth_oauthlib.flow import InstalledAppFlow\n",
        "from google.colab import auth\n",
        "import gspread\n",
        "from google.auth import default\n",
        "\n",
        "import pandas as pd\n",
        "import numpy as np\n",
        "from datetime import datetime, timedelta\n",
        "import smtplib\n",
        "from configparser import ConfigParser\n",
        "from os.path import basename\n",
        "from email.mime.text import MIMEText\n",
        "from email.mime.multipart import MIMEMultipart\n",
        "from email.mime.application import MIMEApplication"
      ]
    },
    {
      "cell_type": "code",
      "execution_count": null,
      "metadata": {
        "id": "qWDb1Oz7uG_A",
        "pycharm": {
          "name": "#%%\n"
        }
      },
      "outputs": [],
      "source": [
        "def remove_end_spaces(string):\n",
        "    string = \"\".join(string.rstrip())\n",
        "    return \"\".join(string.rstrip().lstrip())"
      ]
    },
    {
      "cell_type": "code",
      "execution_count": null,
      "metadata": {
        "id": "ePKvvpdjmQgR",
        "pycharm": {
          "name": "#%%\n"
        }
      },
      "outputs": [],
      "source": [
        "# Dictionary:\n",
        "# - Key: [First name] [Last name]\n",
        "# - Value: Link to google calendar private ics link\n",
        "# TODO: (High priority) Load from json file\n",
        "ical = {}"
      ]
    },
    {
      "cell_type": "code",
      "execution_count": null,
      "metadata": {
        "id": "wUfa5fwJAFVG",
        "pycharm": {
          "name": "#%%\n"
        }
      },
      "outputs": [],
      "source": [
        "# Bad system to split shifts by, but this was caused becayse the way schedules \n",
        "# were organized changed drastically from when I started coding this to now.\n",
        "# This was also my first large scale coding project outside of school, so \n",
        "# I didn't know the proper frameworks to make this scalable and robust.\n",
        "# TODO: (Low priority) Reformat system to be intuitive and less redundant\n",
        "days = [\"SUNDAY\", \"MONDAY\", \"TUESDAY\", \"WEDNESDAY\", \"THURSDAY\", \"FRIDAY\", \"SATURDAY\"]\n",
        "hours = {\n",
        "    \"11:45PM\": 0,\n",
        "    \"12:00AM\": 0,\n",
        "    \"5:45AM\": 6,\n",
        "    \"6:00AM\": 6,\n",
        "    \"7:00AM\": 7,\n",
        "    \"8:00AM\": 8,\n",
        "    \"8:45AM\": 9,\n",
        "    \"9:00AM\": 9,\n",
        "    \"10:00AM\": 10,\n",
        "    \"11:00AM\": 11,\n",
        "    \"11:45AM\": 12,\n",
        "    \"12:00PM\": 12,\n",
        "    \"1:00PM\": 13,\n",
        "    \"2:00PM\": 14,\n",
        "    \"2:45PM\": 15,\n",
        "    \"3:00PM\": 15,\n",
        "    \"4:00PM\": 16,\n",
        "    \"5:00PM\": 17,\n",
        "    \"5:45PM\": 18,\n",
        "    \"6:00PM\": 18,\n",
        "    \"6:30PM\": 18.5,\n",
        "    \"7:00PM\": 19,\n",
        "    \"7:30PM\": 19.5,\n",
        "    \"8:00PM\": 20,\n",
        "    \"8:30PM\": 20.5,\n",
        "    \"8:45PM\": 21,\n",
        "    \"9:00PM\": 21,\n",
        "    \"9:30PM\": 21.5,\n",
        "    \"10:00PM\": 22,\n",
        "    \"10:30PM\": 22.5,\n",
        "    \"11:00PM\": 23,\n",
        "}"
      ]
    },
    {
      "cell_type": "markdown",
      "metadata": {
        "id": "jJYZo3jIt7kA",
        "pycharm": {
          "name": "#%% md\n"
        }
      },
      "source": [
        "# Auth"
      ]
    },
    {
      "cell_type": "code",
      "execution_count": null,
      "metadata": {
        "id": "2B_FPF_IuBvC",
        "pycharm": {
          "name": "#%%\n"
        }
      },
      "outputs": [],
      "source": [
        "# For spreadsheet access\n",
        "auth.authenticate_user()\n",
        "creds, _ = default()\n",
        "gc = gspread.authorize(creds)"
      ]
    },
    {
      "cell_type": "code",
      "execution_count": null,
      "metadata": {
        "id": "DC6h7IzsQSL9",
        "pycharm": {
          "name": "#%%\n"
        }
      },
      "outputs": [],
      "source": [
        "# https://stackoverflow.com/questions/13694811/cannot-get-service-account-authorization-to-work-on-gcs-script-using-python-clie\n",
        "# https://gist.github.com/nikhilkumarsingh/8a88be71243afe8d69390749d16c8322\n",
        "\n",
        "# For google calendar access\n",
        "scopes = ['https://www.googleapis.com/auth/calendar']\n",
        "flow = InstalledAppFlow.from_client_secrets_file(\"/content/drive/MyDrive/Colab Notebooks/credentials.json\", scopes=scopes)\n",
        "credentials = flow.run_console()\n",
        "pickle.dump(credentials, open(\"token.pkl\", \"wb\"))\n",
        "credentials = pickle.load(open(\"token.pkl\", \"rb\"))\n",
        "service = build(\"calendar\", \"v3\", credentials=credentials)"
      ]
    },
    {
      "cell_type": "markdown",
      "metadata": {
        "id": "CtQPkJtBx8F-",
        "pycharm": {
          "name": "#%% md\n"
        }
      },
      "source": [
        "# Deconstruct Spreadsheets"
      ]
    },
    {
      "cell_type": "code",
      "execution_count": null,
      "metadata": {
        "id": "Ayx8hpvjuK9V",
        "pycharm": {
          "name": "#%%\n"
        }
      },
      "outputs": [],
      "source": [
        "# TODO: Parallelize\n",
        "# TODO: Add exception/unit tests to ensure no bugs occurred\n",
        "\n",
        "#defining my worksheet\n",
        "E_worksheet = gc.open(\"Evergreen IQ Schedule\").worksheet(E_form)\n",
        "# Get_all_values gives a list of rows\n",
        "rows = E_worksheet.get_all_values()\n",
        "# Convert to a DataFrame \n",
        "E_df = pd.DataFrame(rows)\n",
        "\n",
        "# Get dictionary of days\n",
        "dates = (E_df.iloc[0,1:8]).to_numpy()\n",
        "daydict = {}\n",
        "for dayIX in range(len(days)):\n",
        "    daydict[days[dayIX]] = dates[dayIX]\n",
        "\n",
        "# Separate Schedule\n",
        "E_schedule = E_df.iloc[:, 0:8]\n",
        "E_schedule = E_schedule.iloc[[2, 3, 4, 5, 6, 7, 8, 9, 10, 11, 12, 13, 14, 15]] # Due to odd formating, these are the only rows with schedule info\n",
        "\n",
        "# Find worker information\n",
        "E_finder = E_df.iloc[:, 9] \n",
        "E_start = E_finder[E_finder == \"EVERGREEN IQ STAFF\"].index.tolist()[0] + 2\n",
        "E_end = E_finder[E_finder == \"TOTAL HOURS\"].index.tolist()[0]\n",
        "\n",
        "# Zip worker information into an easier format\n",
        "E_workers_info = E_df.iloc[E_start:E_end, 9:15] \n",
        "E_workers = np.array(list(zip(E_workers_info.iloc[:,1].values, E_workers_info.iloc[:,0].values, E_workers_info.iloc[:,3].values)))\n",
        "print(E_workers)"
      ]
    },
    {
      "cell_type": "code",
      "execution_count": null,
      "metadata": {
        "id": "rhCKIoDB6UBG",
        "pycharm": {
          "name": "#%%\n"
        }
      },
      "outputs": [],
      "source": [
        "for workerIX in E_workers:\n",
        "    workerIX[0] = remove_end_spaces(workerIX[0])\n",
        "    workerIX[1] = remove_end_spaces(workerIX[1])\n",
        "\n",
        "    name = (workerIX[0].capitalize() + \" \" + workerIX[1].capitalize())\n",
        "    if not name in ical:\n",
        "      print(name)"
      ]
    },
    {
      "cell_type": "code",
      "execution_count": null,
      "metadata": {
        "id": "xs17lFqc_23F",
        "pycharm": {
          "name": "#%%\n"
        }
      },
      "outputs": [],
      "source": [
        "# https://karenapp.io/articles/how-to-automate-google-calendar-with-python-using-the-calendar-api/\n",
        "# https://github.com/kuzmoyev/google-calendar-simple-api\n",
        "# https://cloud.google.com/iam/docs/service-accounts\n",
        "# https://stackoverflow.com/questions/70495445/google-calendar-api-error-code-403-the-request-is-missing-a-valid-api-key\n",
        "def evergreen_schedule(worker, schedule):\n",
        "    shifts = []\n",
        "    total_hours = 0\n",
        "    worker_space = worker + \" \"\n",
        "    for dayIX in range(1, 8):\n",
        "        for timeIX in range(0, 14):\n",
        "            timeIX = timeIX\n",
        "            shift = schedule.iloc[timeIX, dayIX]\n",
        "            shift = shift.splitlines()\n",
        "            if shift:\n",
        "                shift = remove_end_spaces(shift[-1])\n",
        "                if shift == shift and (worker.lower() == shift.lower()\n",
        "                                      or (worker_space.lower() in shift.lower()\n",
        "                                          and (\"(\" in shift or \"@\" in shift))\n",
        "                                      or (worker_space.lower() in shift.lower()\n",
        "                                          and \"ARHM\" in shift)):\n",
        "                    day = days[dayIX - 1]\n",
        "                    time = schedule.iloc[timeIX, 0]\n",
        "                    if time == \"\" or time == \"\\n\" or time == \" \":\n",
        "                        time = schedule.iloc[timeIX-1, 0]\n",
        "                    begin = time.split(\" - \", 1)[0]\n",
        "                    begin = begin[:-2] + \":00\" + begin[-2:]\n",
        "                    end = time.split(\" - \", 1)[1]\n",
        "                    end = end[:-2] + \":00\" + end[-2:]\n",
        "\n",
        "                    reason = \"\"\n",
        "                    if worker.lower() != shift.lower():\n",
        "                        temp = shift.capitalize() # Messes up if one part isn't capitalized\n",
        "                        reason = temp.split(worker, 1)[1]\n",
        "                        reason = \"    |###| Please Note:\" + reason\n",
        "\n",
        "                    shifts.append([day, [begin, end], \" @ Evergreen\", hours[begin], reason])\n",
        "                    if hours[end] < hours[begin]:\n",
        "                        total_hours += 24 + hours[end] - hours[begin]\n",
        "                    else:\n",
        "                        total_hours += hours[end] - hours[begin]\n",
        "\n",
        "    for dayIX in days:\n",
        "        shiftIX = 0\n",
        "        while shiftIX < (len(shifts) - 1):\n",
        "            if dayIX.lower() == shifts[shiftIX][0].lower() and dayIX.lower() == shifts[shiftIX + 1][0].lower():\n",
        "                if shifts[shiftIX][1][1] == shifts[shiftIX + 1][1][0]:\n",
        "                    shifts[shiftIX][1][1] = shifts[shiftIX + 1][1][1]\n",
        "                    del shifts[shiftIX + 1]\n",
        "                    shiftIX -= 1\n",
        "            shiftIX += 1\n",
        "\n",
        "    # Reformat to strings\n",
        "    for shiftIX in shifts:\n",
        "        begin = shiftIX[1][0]\n",
        "        end = shiftIX[1][1]\n",
        "        shiftIX[1] = begin + \"-\" + end\n",
        "        start_time = datetime.strptime(daydict[shiftIX[0]] + \" \" + shiftIX[1].split('-')[0], '%m/%d/%y %I:%M%p')\n",
        "        end_time = datetime.strptime(daydict[shiftIX[0]] + \" \" + shiftIX[1].split('-')[1], '%m/%d/%y %I:%M%p')\n",
        "\n",
        "        if end_time < start_time:\n",
        "            end_time += timedelta(days=1)\n",
        "        \n",
        "\n",
        "        shiftIX.append(start_time)\n",
        "        shiftIX.append(end_time)\n",
        "\n",
        "    return shifts, total_hours"
      ]
    },
    {
      "cell_type": "code",
      "execution_count": null,
      "metadata": {
        "id": "Y5sOcRdoyDRj",
        "pycharm": {
          "name": "#%%\n"
        }
      },
      "outputs": [],
      "source": [
        "D_worksheet = gc.open(D_form).get_worksheet(0)\n",
        "#get_all_values gives a list of rows\n",
        "rows = D_worksheet.get_all_values()\n",
        "# Convert to a DataFrame \n",
        "D_df = pd.DataFrame(rows)\n",
        "\n",
        "# Separate Schedule\n",
        "D_schedule = D_df.iloc[2:16, 0:8]\n",
        "DS_column = D_df.iloc[:, 0]\n",
        "DS_end = DS_column[DS_column == \"SUPERVISORS\"].index.tolist()[0]\n",
        "DS_schedule = D_df.iloc[17:DS_end, 0:8]\n",
        "\n",
        "# Get week\n",
        "week = D_df.iat[0,0]\n",
        "\n",
        "# Find worker information\n",
        "D_finder = D_df.iloc[:, 11] \n",
        "D_end = D_finder[D_finder == \"TOTAL HOURS\"].index.tolist()[0]\n",
        "\n",
        "# Zip worker information into an easier format\n",
        "D_workers_info = D_df.iloc[1:D_end, 11:16] \n",
        "D_workers = np.array(list(zip(D_workers_info.iloc[:,3].values, D_workers_info.iloc[:,2].values, D_workers_info.iloc[:,1].values)))\n",
        "D_workers = D_workers[6:] # Sorry, no supervisors allowed\n",
        "print(D_workers)"
      ]
    },
    {
      "cell_type": "code",
      "execution_count": null,
      "metadata": {
        "id": "2vrvW-IR7z0M",
        "pycharm": {
          "name": "#%%\n"
        }
      },
      "outputs": [],
      "source": [
        "for workerIX in D_workers:\n",
        "    workerIX[0] = remove_end_spaces(workerIX[0])\n",
        "    workerIX[1] = remove_end_spaces(workerIX[1])\n",
        "\n",
        "    name = (workerIX[0].capitalize() + \" \" + workerIX[1].capitalize())\n",
        "    if not name in ical:\n",
        "      print(name)"
      ]
    },
    {
      "cell_type": "code",
      "execution_count": null,
      "metadata": {
        "id": "Fttr40wT0VoD",
        "pycharm": {
          "name": "#%%\n"
        }
      },
      "outputs": [],
      "source": [
        "def special_schedule(schedule, worker):\n",
        "    shifts = []\n",
        "    total_hours = 0\n",
        "    worker_space = worker + \" \"\n",
        "\n",
        "    for dayIX in range(1, 8):\n",
        "        for timeIX in range(len(schedule.index)):\n",
        "            shift = schedule.iloc[timeIX, dayIX]\n",
        "            if shift == shift and (worker.lower() == shift.lower()\n",
        "                                   or (worker_space.lower() in shift.lower()\n",
        "                                       and (\"(\" in shift or \"@\" in shift))):\n",
        "                shift = remove_end_spaces(shift)\n",
        "                day = days[dayIX - 1]\n",
        "                # Find Time\n",
        "                found = False\n",
        "                IX = 1\n",
        "                time = \"\"\n",
        "                while found == False:\n",
        "                    potential = schedule.iloc[timeIX - IX, dayIX]\n",
        "                    print(potential)\n",
        "                    if (\"AM\".lower() in potential.lower() or \"PM\".lower() in potential.lower()) and \"-\" in potential:\n",
        "                        time = potential\n",
        "                        found = True\n",
        "                    IX += 1\n",
        "\n",
        "                bad_flag = False\n",
        "\n",
        "                begin = \"\"\n",
        "                end = \"\"\n",
        "                if \" - \" in time:\n",
        "                    begin = time.split(\" - \", 1)[0]\n",
        "                    end = time.split(\" - \", 1)[1]\n",
        "                    if begin.count(\":\") == 0:\n",
        "                        begin = begin[:-2] + \":00\" + begin[-2:].upper()\n",
        "                        end = end[:-2] + \":00\" + end[-2:].upper()\n",
        "                elif \"-\" in time:\n",
        "                    begin = time.split(\"-\", 1)[0]\n",
        "                    end = time.split(\"-\", 1)[1]\n",
        "                    if begin.count(\":\") == 0:\n",
        "                        begin = begin[:-2] + \":00\" + begin[-2:].upper()\n",
        "                        end = end[:-2] + \":00\" + end[-2:].upper()\n",
        "                else:\n",
        "                    bad_flag = True\n",
        "\n",
        "                if not bad_flag:\n",
        "                    reason = \"\"\n",
        "                    if worker.lower() != shift.lower():\n",
        "                        reason = shift.split(worker, 1)[1]\n",
        "                        reason = \"    |###| Please Note:\" + reason\n",
        "\n",
        "                    time = begin + \"-\" + end\n",
        "\n",
        "                    start_time = datetime.strptime(daydict[day] + \" \" + begin, '%m/%d/%y %I:%M%p')\n",
        "                    end_time = datetime.strptime(daydict[day] + \" \" + end, '%m/%d/%y %I:%M%p')\n",
        "\n",
        "                    if end_time < start_time:\n",
        "                        end_time += timedelta(days=1)\n",
        "\n",
        "                    shifts.append([day, time, \" @ Special DDFD Shift\", hours[begin], reason, start_time, end_time])\n",
        "                    if hours[end] < hours[begin]:\n",
        "                        total_hours += 24 + hours[end] - hours[begin]\n",
        "                    else:\n",
        "                        total_hours += hours[end] - hours[begin]\n",
        "\n",
        "    return shifts, total_hours\n",
        "\n",
        "def DDFD_schedule(worker, schedule, DS_schedule):\n",
        "    worker_space = worker + \" \"\n",
        "    shifts = []\n",
        "    total_hours = 0\n",
        "\n",
        "    for dayIX in range(1, 8):\n",
        "            for timeIX in range(len(schedule.index)):\n",
        "                shift = schedule.iloc[timeIX, dayIX]\n",
        "                if shift == shift and (worker.lower() == shift.lower()\n",
        "                                      or (worker_space.lower() in shift.lower()\n",
        "                                          and (\"(\" in shift or \"@\" in shift))):\n",
        "                    shift = remove_end_spaces(shift)\n",
        "                    day = days[dayIX - 1]\n",
        "                    begin = None\n",
        "                    end = None\n",
        "                    if \"BUCKET\" in schedule.iloc[timeIX, 0]:\n",
        "                        time = \"6:00PM-9:00PM\"\n",
        "                        begin = \"6:00PM\"\n",
        "                        end = \"9:00PM\"\n",
        "                    else:\n",
        "                        time = schedule.iloc[timeIX, 0]\n",
        "                        begin = time.split(\"-\", 1)[0]\n",
        "                        end = time.split(\"-\", 1)[1]\n",
        "\n",
        "                    start_time = datetime.strptime(daydict[day] + \" \" + begin, '%m/%d/%y %I:%M%p')\n",
        "                    end_time = datetime.strptime(daydict[day] + \" \" + end, '%m/%d/%y %I:%M%p')\n",
        "\n",
        "                    if begin == \"11:45PM\":\n",
        "                        start_time -= timedelta(days=1)\n",
        "                    if begin == \"8:45PM\":\n",
        "                        end_time += timedelta(days=1)\n",
        "\n",
        "                    reason = \"\"\n",
        "                    if worker.lower() != shift.lower():\n",
        "                        reason = shift.split(worker, 1)[1]\n",
        "                        reason = \"    |###| Please Note:\" + reason\n",
        "\n",
        "                    shifts.append([day, time, \" @ DDFD\", hours[begin], reason, start_time, end_time])\n",
        "                    if hours[end] < hours[begin]:\n",
        "                        total_hours += 24 + hours[end] - hours[begin]\n",
        "                    else:\n",
        "                        total_hours += hours[end] - hours[begin]\n",
        "\n",
        "    # Special Shifts\n",
        "    sshifts, shours = special_schedule(DS_schedule, worker)\n",
        "    shifts += sshifts\n",
        "\n",
        "    # Sort schedule to be chronological\n",
        "    shifts.sort(key=lambda x: x[3], reverse=False)\n",
        "\n",
        "    return shifts, total_hours, shours"
      ]
    },
    {
      "cell_type": "markdown",
      "metadata": {
        "id": "SNtB8_rHRyBW",
        "pycharm": {
          "name": "#%% md\n"
        }
      },
      "source": [
        "# Add to Calendar and Send Email"
      ]
    },
    {
      "cell_type": "code",
      "execution_count": null,
      "metadata": {
        "id": "9Wyf-ay-UInQ",
        "pycharm": {
          "name": "#%%\n"
        }
      },
      "outputs": [],
      "source": [
        "def reset_calendar_week(service, min, max):\n",
        "    result = service.calendarList().list().execute()\n",
        "    for resultIX in result[\"items\"]:\n",
        "        calendar_id = resultIX['id']\n",
        "        event_result = service.events().list(calendarId=calendar_id, timeMin=min, timeMax=max, maxResults=9999).execute()\n",
        "        for eventIX in event_result[\"items\"]:\n",
        "            service.events().delete(calendarId=calendar_id, eventId=eventIX[\"id\"]).execute()"
      ]
    },
    {
      "cell_type": "code",
      "execution_count": null,
      "metadata": {
        "id": "c9HTXpuXPTDB",
        "pycharm": {
          "name": "#%%\n"
        }
      },
      "outputs": [],
      "source": [
        "def add_to_calendar(shifts, full_name, service):\n",
        "    for shiftIX in shifts:\n",
        "        location = None\n",
        "        title = None\n",
        "        calendar = full_name\n",
        "        if \"Evergreen\" in shiftIX[2]:\n",
        "            location = \"Evergreen Front Desk\"\n",
        "            title = \"Evergreen Front Desk Shift\"\n",
        "        elif \"Special\" in shiftIX[2]:\n",
        "            location = \"De Neve Front Desk\"\n",
        "            title = \"De Neve Front Desk Special Shift\"\n",
        "        elif \"DDFD\" in shiftIX[2]:\n",
        "            location = \"De Neve Front Desk\"\n",
        "            title = \"De Neve Front Desk Shift\"\n",
        "\n",
        "        event = {\n",
        "          'summary': title,\n",
        "          'location': location,\n",
        "          'description': 'Front Desk Shift. Additional Notes: ' + shiftIX[4],\n",
        "          'start': {\n",
        "            'dateTime': shiftIX[5].strftime(\"%Y-%m-%dT%H:%M:%S\"),\n",
        "            'timeZone': \"America/Los_Angeles\",\n",
        "          },\n",
        "          'end': {\n",
        "            'dateTime': shiftIX[6].strftime(\"%Y-%m-%dT%H:%M:%S\"),\n",
        "            'timeZone': \"America/Los_Angeles\",\n",
        "          },\n",
        "          'reminders': {\n",
        "            'useDefault': False,\n",
        "            'overrides': [\n",
        "              {'method': 'email', 'minutes': 3 * 60},\n",
        "              {'method': 'popup', 'minutes': 15},\n",
        "            ],\n",
        "          },\n",
        "        }\n",
        "        # print(shiftIX[5].strftime(\"%Y-%m-%dT%H:%M:%S\"), shiftIX[6].strftime(\"%Y-%m-%dT%H:%M:%S\"))\n",
        "        for calendar_list_entry in calendar_result['items']:\n",
        "            if calendar in calendar_list_entry[\"summary\"]:\n",
        "                service.events().insert(calendarId=calendar_list_entry[\"id\"], body=event).execute()"
      ]
    },
    {
      "cell_type": "code",
      "execution_count": null,
      "metadata": {
        "id": "-ophroEcnd_u",
        "pycharm": {
          "name": "#%%\n"
        }
      },
      "outputs": [],
      "source": [
        "def make_message(name, l_name, shifts, total_hours, shours):\n",
        "    message = f\"\"\"Good afternoon {name},\n",
        "\n",
        "I am a bot created by Blake Gella. Here is your tenative schedule for next week.\\n\"\"\"\n",
        "    message += \"\\n\"\n",
        "    message += str(week + \"\\n\")\n",
        "    message += \"Total Main Hours: \" + str(total_hours) + \"\\n\"\n",
        "    if shours != 0:\n",
        "        message += \"Special Shift Hours: \" + str(shours) + \"    |###| Please note this may be less\\n\"\n",
        "    else:\n",
        "        message += \"Special Shift Hours: \" + str(shours) + \"\\n\"\n",
        "    message += \"\\n\"\n",
        "\n",
        "    counter = 0\n",
        "    for dayIX in days:\n",
        "        message += dayIX + \" \" + dates[counter] + \":\\n\"\n",
        "\n",
        "        working = False\n",
        "        for shiftIX in shifts:\n",
        "            if dayIX.lower() == shiftIX[0].lower():\n",
        "                message += shiftIX[1] + shiftIX[2] + shiftIX[4] + \"\\n\"\n",
        "                working = True\n",
        "        if not working:\n",
        "            message += \"NO WORK :^)\\n\"\n",
        "\n",
        "        message += \"\\n\"\n",
        "        counter += 1\n",
        "\n",
        "    message += \"\"\"\n",
        "Here's also a personalized ical link that will subscribe you to a calendar:\n",
        "\n",
        "\"\"\"\n",
        "    message += ical[name + \" \" + l_name]\n",
        "\n",
        "    message += \"\"\"\n",
        "\n",
        "That's all! Please check the schedule still in case I made any errors. Have a great day!\n",
        "\n",
        "Sincerely,\n",
        "Glitch Bot\n",
        "\n",
        "P.S.\n",
        "The link I have included is for a .ical file that you can use to subscribe to a work calendar! If you are on an iPhone, please open this email in the Apple mail app to import the events.\n",
        "------------------------------------------------\n",
        "Beep-Boop. I am a bot created by Blake Gella. If you notice any errors, please contact Blake ASAP!\"\"\"\n",
        "    return message"
      ]
    },
    {
      "cell_type": "markdown",
      "metadata": {
        "id": "h2nU0f_wP8k1",
        "pycharm": {
          "name": "#%% md\n"
        }
      },
      "source": [
        "# Main"
      ]
    },
    {
      "cell_type": "code",
      "execution_count": null,
      "metadata": {
        "id": "JOvIs4V7VJX7",
        "pycharm": {
          "name": "#%%\n"
        }
      },
      "outputs": [],
      "source": [
        "min = (datetime.strptime(daydict[\"SUNDAY\"] + \" 00:01\", '%m/%d/%y %H:%M')+ timedelta(hours=8)).strftime(\"%Y-%m-%dT%H:%M:%S\")\n",
        "max = (datetime.strptime(daydict[\"SATURDAY\"] + \" 00:00\", '%m/%d/%y %H:%M')+ timedelta(days=1, hours=8)).strftime(\"%Y-%m-%dT%H:%M:%S\")\n",
        "reset_calendar_week(service, min+\"Z\", max+\"Z\")\n",
        "\n",
        "config_object = ConfigParser()\n",
        "config_object.read(\"/content/drive/MyDrive/Colab Notebooks/config.ini\")\n",
        "password = config_object[\"bot_info\"][\"password\"]\n",
        "bot_email = #REPLACE\n",
        "host_email =#REPLACE\n",
        "port = 465\n",
        "s = smtplib.SMTP_SSL(\"smtp.gmail.com\", port)\n",
        "s.login(bot_email, password)\n",
        "\n",
        "calendar_result = service.calendarList().list().execute()\n",
        "print(\"Evergreen\")\n",
        "for workerIX in E_workers:\n",
        "    workerIX[0] = remove_end_spaces(workerIX[0])\n",
        "    workerIX[1] = remove_end_spaces(workerIX[1])\n",
        "\n",
        "    print(\"Fetching Evergreen Schedules\")\n",
        "    E_shifts, E_total_hours = evergreen_schedule(workerIX[0], E_schedule)\n",
        "    shifts = E_shifts\n",
        "    total_hours = E_total_hours\n",
        "\n",
        "    if total_hours != 0:\n",
        "        add_to_calendar(shifts, workerIX[0] + \" \" + workerIX[1], service)\n",
        "\n",
        "        print(\"Creating Message\")\n",
        "        message = make_message(workerIX[0].capitalize(), workerIX[1].capitalize(), shifts, total_hours, 0)\n",
        "        print(\"Message Created. Creating Email\")\n",
        "\n",
        "        msg = MIMEMultipart()\n",
        "        msg['Subject'] = f\"Updated Schedule Delivery for {week}!\"\n",
        "        msg['From'] = bot_email\n",
        "        msg['To'] = host_email\n",
        "        msg.attach(MIMEText(message, 'plain'))\n",
        "        s.sendmail(\"\", workerIX[2], msg.as_string()) bot email\n",
        "        print(\"Email Sent!\")\n",
        "    print(workerIX[0] + \": \" + str(total_hours))\n",
        "    print()\n",
        "\n",
        "print(\"DDFD\")\n",
        "\n",
        "for workerIX in D_workers:\n",
        "    workerIX[0] = remove_end_spaces(workerIX[0])\n",
        "    workerIX[1] = remove_end_spaces(workerIX[1])\n",
        "\n",
        "    print(\"Fetching DDFD Schedules\")\n",
        "    D_shifts, D_total_hours, S_hours = DDFD_schedule(workerIX[0], D_schedule, DS_schedule)\n",
        "    shifts = D_shifts\n",
        "    total_hours = D_total_hours\n",
        "\n",
        "    if total_hours != 0 or S_hours != 0:\n",
        "        add_to_calendar(shifts, workerIX[0] + \" \" + workerIX[1], service)\n",
        "\n",
        "        print(\"Creating Message\")\n",
        "        message = make_message(workerIX[0].capitalize(), workerIX[1].capitalize(), shifts, total_hours, S_hours)\n",
        "        print(\"Message Created. Creating Email\")\n",
        "\n",
        "        msg = MIMEMultipart()\n",
        "        msg['Subject'] = f\"Updated Schedule Delivery for {week}!\"\n",
        "        msg['From'] = bot_email\n",
        "        msg['To'] = host_email\n",
        "        msg.attach(MIMEText(message, 'plain'))\n",
        "        s.sendmail(bot_email, workerIX[2], msg.as_string())\n",
        "        print(\"Email Sent!\")\n",
        "    print(workerIX[0] + \": \" + str(total_hours) + \"/\" + str(S_hours))\n",
        "    print()"
      ]
    },
    {
      "cell_type": "markdown",
      "metadata": {
        "id": "cbxaMq5Mjdv6",
        "pycharm": {
          "name": "#%% md\n"
        }
      },
      "source": [
        "# Troubleshooting"
      ]
    },
    {
      "cell_type": "code",
      "execution_count": null,
      "metadata": {
        "id": "EwMcfyj8-bBb",
        "pycharm": {
          "name": "#%%\n"
        }
      },
      "outputs": [],
      "source": [
        "min = (datetime.strptime(daydict[\"SUNDAY\"] + \" 00:01\", '%m/%d/%y %H:%M')+ timedelta(hours=8)).strftime(\"%Y-%m-%dT%H:%M:%S\")\n",
        "max = (datetime.strptime(daydict[\"SATURDAY\"] + \" 00:00\", '%m/%d/%y %H:%M')+ timedelta(days=1, hours=8)).strftime(\"%Y-%m-%dT%H:%M:%S\")\n",
        "reset_calendar_week(service, min+\"Z\", max+\"Z\")\n",
        "\n",
        "calendar_result = service.calendarList().list().execute()\n",
        "print(\"Evergreen\")\n",
        "for workerIX in E_workers:\n",
        "    workerIX[0] = remove_end_spaces(workerIX[0])\n",
        "    workerIX[1] = remove_end_spaces(workerIX[1])\n",
        "\n",
        "    print(\"Fetching Evergreen Schedules\")\n",
        "    E_shifts, E_total_hours = evergreen_schedule(workerIX[0], E_schedule)\n",
        "    shifts = E_shifts\n",
        "    total_hours = E_total_hours\n",
        "\n",
        "    if total_hours != 0:\n",
        "        add_to_calendar(shifts, workerIX[0] + \" \" + workerIX[1], service)\n",
        "\n",
        "print(\"DDFD\")\n",
        "for workerIX in D_workers:\n",
        "    workerIX[0] = remove_end_spaces(workerIX[0])\n",
        "    workerIX[1] = remove_end_spaces(workerIX[1])\n",
        "\n",
        "    print(\"Fetching DDFD Schedules\")\n",
        "    D_shifts, D_total_hours, S_hours = DDFD_schedule(workerIX[0], D_schedule, DS_schedule)\n",
        "    shifts = D_shifts\n",
        "    total_hours = D_total_hours\n",
        "\n",
        "    if total_hours != 0 or S_hours != 0:\n",
        "        add_to_calendar(shifts, workerIX[0] + \" \" + workerIX[1], service)"
      ]
    },
    {
      "cell_type": "code",
      "execution_count": null,
      "metadata": {
        "id": "zp7F7DD5lJdi",
        "pycharm": {
          "name": "#%%\n"
        }
      },
      "outputs": [],
      "source": []
    }
  ],
  "metadata": {
    "colab": {
      "provenance": []
    },
    "kernelspec": {
      "display_name": "Python 3",
      "name": "python3"
    },
    "language_info": {
      "name": "python"
    }
  },
  "nbformat": 4,
  "nbformat_minor": 0
}
